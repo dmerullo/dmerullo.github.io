{
  "cells": [
    {
      "cell_type": "raw",
      "metadata": {},
      "source": [
        "---\n",
        "title: \"About\"\n",
        "---"
      ],
      "id": "c95f8676"
    },
    {
      "cell_type": "markdown",
      "metadata": {},
      "source": [
        "```{css}\n",
        "#| echo: false\n",
        "p {\n",
        "  text-align: justify\n",
        "}\n",
        "```\n",
        "\n",
        "\n",
        "![](files/picture.png){fig-align=\"center\" width=\"40%\"}\n",
        "\n",
        "I am a research scientist experienced in data science, data engineering, and scientific computing. My current specialty is developing scalable, high-performance methods for translating novel data into functional insights and resources. All of my projects have centrally involved topics like information, computation, and communication, which has lead to my interest in product development as a way to integrate data from diverse external sources into a cohesive framework to guide decisions and create solutions for problems in industry. \n",
        "\n",
        "The main languages I use include R, Python, Julia, Bash, and SQL. For high-performance and cloud computing, I am familiar with Linux, GCP, and HDFS.\n",
        "\n",
        "{{< iconify carbon:email size=xl >}} dmerullo [at] protonmail [dot] com\\\n",
        "{{< iconify carbon:logo-linkedin size=xl >}} [linkedin.com/dmerullo](https://www.linkedin.com/in/dmerullo){target=\"_blank\"} \\\n",
        "{{< iconify carbon:logo-github size=xl >}} [github.com/dmerullo](https://github.com/dmerullo){target=\"_blank\"}"
      ],
      "id": "3306c1ab"
    }
  ],
  "metadata": {
    "kernelspec": {
      "display_name": "Python 3",
      "language": "python",
      "name": "python3"
    }
  },
  "nbformat": 4,
  "nbformat_minor": 5
}