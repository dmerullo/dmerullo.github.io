{
  "cells": [
    {
      "cell_type": "raw",
      "metadata": {},
      "source": [
        "---\n",
        "title: \"About\"\n",
        "---"
      ],
      "id": "629d94a8"
    },
    {
      "cell_type": "markdown",
      "metadata": {},
      "source": [
        "```{css, echo = FALSE}\n",
        ".justify {\n",
        "  text-align: justify !important\n",
        "}\n",
        "```\n",
        "\n",
        "\n",
        "![](files/picture.png){fig-align=\"center\" width=\"30%\"}\n",
        "\n",
        "::: {.justify}\n",
        "I am a research scientist experienced in data engineering, scientific computing, and informatics. My goal is to develop scalable, efficient methods for translating novel data into functional resources. The main languages I use include R, Python, Julia, Bash, and SQL. For high-performance and cloud computing, I am familiar with Linux, GCP, and HDFS.\n",
        "\n",
        "In my current role at a clinical research organization for a major pharmaceutical client, I perform data ingestion and develop ETL pipelines for genomic sequencing datasets (GWAS & xQTL). As part of the biomarkers and genomic medicine team, I'm a link between the scientific analysts who require efficient management of this data at scale, and the data scientists/engineers who lack familiarity with bioinformatics methods and resources.\n",
        "\n",
        "For my PhD and postdoctoral research in neuroscience, I used techniques from molecular biology and bioinformatics to understand how the brain produces complex, learned behaviors like speech and language.\n",
        ":::\n",
        "\n",
        "{{< iconify carbon:email size=xl >}} dmerullo [at] gmail [dot] com\\\n",
        "{{< iconify carbon:logo-linkedin size=xl >}} [linkedin.com/dmerullo](https://www.linkedin.com/in/dmerullo){target=\"_blank\"} \\\n",
        "{{< iconify carbon:logo-github size=xl >}} [github.com/dmerullo](https://github.com/dmerullo){target=\"_blank\"} \\\n",
        "\n",
        "*Made with [Quarto and Github Pages](https://quarto.org/docs/publishing/github-pages.html){target=\"_blank\"}*"
      ],
      "id": "4bb32254"
    }
  ],
  "metadata": {
    "kernelspec": {
      "display_name": "Python 3",
      "language": "python",
      "name": "python3"
    }
  },
  "nbformat": 4,
  "nbformat_minor": 5
}